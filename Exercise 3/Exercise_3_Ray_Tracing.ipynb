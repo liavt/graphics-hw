{
 "cells": [
  {
   "cell_type": "markdown",
   "metadata": {
    "id": "GEn9K882F5Dt"
   },
   "source": [
    "# Overview\n",
    "The concept of ray tracing: a technique for generating an image by tracing the path of light through pixels in an image plane and simulating the effects of its encounters with virtual objects.\n",
    "\n",
    "The technique is capable of producing a very high degree of visual realism, usually higher than that of typical scanline rendering methods, but at a greater computational cost.\n",
    "\n",
    "The objective of this exercise is to implement a ray casting/tracing engine. A ray tracer shoots rays from the observer’s eye through a screen and into a scene of objects. It calculates the ray’s\n",
    "intersection with the objects, finds the nearest intersection and calculates the color of the surface according to its material and lighting conditions. _(This is the way you should think about it –\n",
    "this will help your implementation)._"
   ]
  },
  {
   "cell_type": "markdown",
   "metadata": {
    "id": "ngS-Xq3TGZvQ"
   },
   "source": [
    "## Grading\n",
    "- Pinhole Camera (10 points)\n",
    "- Display geometric primitives in space:\n",
    " - Triangles (10 points)\n",
    " - Mesh (10 points)\n",
    " - Spheres (10 points)\n",
    "- Basic lighting\n",
    "  - Ambient light (5 points)\n",
    "  - Directional Light source (10 Points)\n",
    "  - Spotlight (10 points)\n",
    "  - Simple materials (ambient, diffuse, specular...) (10 points)\n",
    "- Basic hard shadows (10 points)\n",
    "- Reflecting surfaces (15 points)\n",
    "- Create a scene of your own (10 points) with the instructions below – Be creative! Well thought-of scenes may get bonus points 😉\n",
    "- Refracting surfaces (5 points **bonus**)\n",
    "- Reading OBJ Files (5 points **bonus**)"
   ]
  },
  {
   "cell_type": "markdown",
   "metadata": {
    "id": "yUz2L4rlH1TQ"
   },
   "source": [
    "## How to implement\n",
    "\n",
    "We provided you with some framework for you to work with - take adventage of the methods we implemented for you.\n",
    "\n",
    "While you do not have to implement everything using our suggested helper methods, we are expecting that all the methods that are used in this example notebook will be implemented, and this will also allow you to test your code."
   ]
  },
  {
   "cell_type": "markdown",
   "metadata": {},
   "source": [
    "## Common Questions\n",
    "\n",
    "- You may (and sometimes MUST) add parameters and arguments to methods and classes.\n",
    "- You may change and even overwrite other helper_classes.py classes and functions. However, you may find it easier to use it instead of going against it.\n",
    "- You are highly recommended to write a lot of helper functions in hw3. For example: Finding the closest object, Computing the color for a single light source, etc.\n",
    "- You may not change the base classes *LightSource* and *Object3D*\n",
    "- You may not change the arguments for the *render_scene* and *your_own_scene* functions.\n",
    "- You may not change the code written for you in this notebook.\n",
    "- You don't need to restart the notebook for every change in your code - just run the code snippet below before you start running any code in the notebook."
   ]
  },
  {
   "cell_type": "markdown",
   "metadata": {},
   "source": [
    "## Hints and Tips\n",
    "\n",
    "- All light sources and 3D objects have similar functions and arguments in order to make your life easier while rendering. It doesn't mean you need to use all the arguments in every situation\n",
    "- There is a difference between how you treat every 3D Objects. You can differentiate of which class is each object with *isinstance()*\n",
    "- With barycentric coordinates test, you may want to use some epsilon as we are working with float values.\n",
    "- Using the exact intersection point may lead to bugs. After finding an intersection, choose a close point that is above the intersection point (Think - How can I shift a point \"above\" the surface? what is the direction?)"
   ]
  },
  {
   "cell_type": "markdown",
   "metadata": {
    "id": "HCGZy9xfUYLK"
   },
   "source": [
    "# Scene Examples\n",
    "\n",
    "We provided you with some ready scenes to validate your answers. The scenes are in an increasing implementation levels, so we recommend you to implement the code according to the scenes."
   ]
  },
  {
   "cell_type": "code",
   "execution_count": 1,
   "metadata": {},
   "outputs": [],
   "source": [
    "# This small code snippet will allow you to change your python file without resetting the kernel\n",
    "\n",
    "%load_ext autoreload\n",
    "%autoreload 2"
   ]
  },
  {
   "cell_type": "markdown",
   "metadata": {
    "id": "JujmyDnzVjzw"
   },
   "source": [
    "## Scene 1: Hello Ray Tracing!\n",
    "\n",
    "In this scene we render three planes with different colors. You can test this scene to check if your camera and colors are working correctly.\n",
    "\n",
    "![](scenes/scene1.png)"
   ]
  },
  {
   "cell_type": "code",
   "execution_count": null,
   "metadata": {
    "id": "wC4SfjF-Vi2w",
    "pycharm": {
     "is_executing": true
    }
   },
   "outputs": [],
   "source": [
    "from hw3 import *\n",
    "\n",
    "plane_a = Plane([0,1,0],[0,-1,0])\n",
    "plane_a.set_material([0.3, 0.5, 1], [0.3, 0.5, 1], [1, 1, 1], 100, 0.5)\n",
    "plane_b = Plane([0,0,1], [0,0,-3])\n",
    "plane_b.set_material([0, 0.5, 0], [0, 1, 0], [1, 1, 1], 100, 0.5)\n",
    "\n",
    "\n",
    "objects = [plane_a, plane_b]\n",
    "\n",
    "light = PointLight(intensity= np.array([1, 1, 1]),position=np.array([1,1,1]),kc=0.1,kl=0.1,kq=0.1)\n",
    "\n",
    "lights = [light]\n",
    "\n",
    "ambient = np.array([0.1,0.1,0.1])\n",
    "\n",
    "camera = np.array([0,0,1])\n",
    "\n",
    "im = render_scene(camera, ambient, lights, objects, (300, 200), 1)\n",
    "plt.imshow(im)\n",
    "plt.imsave('scene1.png', im)"
   ]
  },
  {
   "cell_type": "markdown",
   "metadata": {},
   "source": [
    "## Scene 2 - Triangles and Shadows\n",
    "\n",
    "This scene adds a single triangle on the background of a plane. Because of it's position, it will also cast shadow on the plane.\n",
    "The lighting is Directional\n",
    "\n",
    "![](scenes/scene2.png)"
   ]
  },
  {
   "cell_type": "code",
   "execution_count": null,
   "metadata": {
    "pycharm": {
     "is_executing": true
    }
   },
   "outputs": [],
   "source": [
    "from hw3 import *\n",
    "\n",
    "triangle = Triangle([1,-1,-2],[0,1,-1.5],[0,-1,-1])\n",
    "triangle.set_material([1, 0, 0], [1, 0, 0], [0, 0, 0], 100, 0.5)\n",
    "plane = Plane([0,0,1], [0,0,-3])\n",
    "plane.set_material([0, 0.5, 0], [0, 1, 0], [1, 1, 1], 100, 0.5)\n",
    "\n",
    "\n",
    "objects = [triangle,plane]\n",
    "\n",
    "light = DirectionalLight(intensity= np.array([1, 1, 1]),direction=np.array([1,1,1]))\n",
    "\n",
    "lights = [light]\n",
    "\n",
    "ambient = np.array([0.1,0.1,0.1])\n",
    "\n",
    "camera = np.array([0,0,1])\n",
    "\n",
    "im = render_scene(camera, ambient, lights, objects, (300, 200), 1)\n",
    "plt.imshow(im)\n",
    "plt.imsave('scene2.png', im)"
   ]
  },
  {
   "cell_type": "markdown",
   "metadata": {},
   "source": [
    "## Scene 3 - Mesh with Reflections\n",
    "\n",
    "This scene has a pyramid with light reflections on plane.\n",
    "\n",
    "![](scenes/scene3.png)"
   ]
  },
  {
   "cell_type": "code",
   "execution_count": null,
   "metadata": {
    "pycharm": {
     "is_executing": true
    },
    "scrolled": true
   },
   "outputs": [],
   "source": [
    "from hw3 import *\n",
    "\n",
    "v_list = np.array([[-1,-1,-2],[1,-1,-2],[0,-1,-1],[0,1,-1.5]])\n",
    "f_list = np.array([[0,2,1],[0,1,3],[0,2,3],[1,3,2]])\n",
    "\n",
    "mesh = Mesh(v_list, f_list)\n",
    "mesh.set_material([0.3, 0.5, 0], [0.3, 0.5, 0], [0.3, 0.3, 0.3], 10, 0.5)\n",
    "mesh.apply_materials_to_triangles()\n",
    "plane = Plane([0,1,0], [0,-1,0])\n",
    "plane.set_material([0, 0.5, 0], [0, 1, 0], [1, 1, 1], 10, 0.5)\n",
    "background = Plane([0,0,1], [0,0,-30])\n",
    "background.set_material([1, 0.3, 0.3], [1, 0.3, 0.3], [0.2, 0.2, 0.2], 10, 0.5)\n",
    "\n",
    "\n",
    "objects = [mesh,plane,background]\n",
    "\n",
    "light = DirectionalLight(intensity= np.array([1, 1, 1]),direction=np.array([1,1,1]))\n",
    "\n",
    "lights = [light]\n",
    "\n",
    "ambient = np.array([0.1,0.1,0.1])\n",
    "\n",
    "camera = np.array([0,0,1])\n",
    "\n",
    "im = render_scene(camera, ambient, lights, objects, (300, 200), 3)\n",
    "plt.imshow(im)\n",
    "plt.imsave('scene3.png', im)"
   ]
  },
  {
   "cell_type": "markdown",
   "metadata": {},
   "source": [
    "## Scene 4 - Sphere with reflections\n",
    "\n",
    "This scene has two spheres with different colors.\n",
    "\n",
    "![](scenes/scene4.png)"
   ]
  },
  {
   "cell_type": "code",
   "execution_count": null,
   "metadata": {
    "pycharm": {
     "is_executing": true
    }
   },
   "outputs": [],
   "source": [
    "from hw3 import *\n",
    "\n",
    "sphere_a = Sphere([-0.5, 0.2, -1],0.5)\n",
    "sphere_a.set_material([1, 0, 0], [1, 0, 0], [0.3, 0.3, 0.3], 100, 1)\n",
    "sphere_b = Sphere([0.8, 0, -0.5],0.3)\n",
    "sphere_b.set_material([0, 1, 0], [0, 1, 0], [0.3, 0.3, 0.3], 100, 0.2)\n",
    "plane = Plane([0,1,0], [0,-0.3,0])\n",
    "plane.set_material([0.2, 0.2, 0.2], [0.2, 0.2, 0.2], [1, 1, 1], 1000, 0.5)\n",
    "background = Plane([0,0,1], [0,0,-3])\n",
    "background.set_material([0.2, 0.2, 0.2], [0.2, 0.2, 0.2], [0.2, 0.2, 0.2], 1000, 0.5)\n",
    "\n",
    "\n",
    "objects = [sphere_a,sphere_b,plane,background]\n",
    "\n",
    "light = PointLight(intensity= np.array([1, 1, 1]),position=np.array([1,1.5,1]),kc=0.1,kl=0.1,kq=0.1)\n",
    "\n",
    "lights = [light]\n",
    "\n",
    "ambient = np.array([0.1,0.2,0.3])\n",
    "\n",
    "camera = np.array([0,0,1])\n",
    "\n",
    "im = render_scene(camera, ambient, lights, objects, (300, 200), 3)\n",
    "plt.imshow(im)\n",
    "plt.imsave('scene4.png', im)"
   ]
  },
  {
   "cell_type": "markdown",
   "metadata": {},
   "source": [
    "## Scene 5 - Different Lighting\n",
    "This scene has 3 light sources, each one in different color, and a white background.\n",
    "\n",
    "![](scenes/scene5.png)"
   ]
  },
  {
   "cell_type": "code",
   "execution_count": null,
   "metadata": {
    "pycharm": {
     "is_executing": true
    }
   },
   "outputs": [],
   "source": [
    "from hw3 import *\n",
    "\n",
    "background = Plane([0,0,1], [0,0,-1])\n",
    "background.set_material([1, 1, 1], [1, 1, 1], [1, 1, 1], 1000, 0.5)\n",
    "\n",
    "\n",
    "objects = [background]\n",
    "\n",
    "light_a = SpotLight(intensity= np.array([0, 0, 1]),position=np.array([0.5,0.5,0]), direction=([0,0,1]),\n",
    "                    kc=0.1,kl=0.1,kq=0.1)\n",
    "light_b = SpotLight(intensity= np.array([0, 1, 0]),position=np.array([-0.5,0.5,0]), direction=([0,0,1]),\n",
    "                    kc=0.1,kl=0.1,kq=0.1)\n",
    "light_c = SpotLight(intensity= np.array([1, 0, 0]),position=np.array([0,-0.5,0]), direction=([0,0,1]),\n",
    "                    kc=0.1,kl=0.1,kq=0.1)\n",
    "\n",
    "lights = [light_a,light_b,light_c]\n",
    "\n",
    "ambient = np.array([0,0,0])\n",
    "\n",
    "camera = np.array([0,0,1])\n",
    "\n",
    "im = render_scene(camera, ambient, lights, objects, (300, 200), 3)\n",
    "plt.imshow(im)\n",
    "plt.imsave('scene5.png', im)"
   ]
  },
  {
   "cell_type": "markdown",
   "metadata": {},
   "source": [
    "## Scene 6 - Your own scene!\n",
    "\n",
    "This is your chance to be creative - create an interesting scene!\n",
    "\n",
    "Your scene has to have:\n",
    "- At least 2 different light sources\n",
    "- Plane + At least 2 different 3D Objects\n",
    "\n",
    "Well thought-of scenes may reward bonus points!"
   ]
  },
  {
   "cell_type": "code",
   "execution_count": null,
   "metadata": {
    "pycharm": {
     "is_executing": true
    }
   },
   "outputs": [],
   "source": [
    "from hw3 import *\n",
    "\n",
    "camera, lights, objects = your_own_scene()\n",
    "\n",
    "im = render_scene(camera, lights, objects, (300, 200), 3)\n",
    "plt.imshow(im)\n",
    "plt.imsave('scene6.png', im)"
   ]
  },
  {
   "cell_type": "markdown",
   "metadata": {},
   "source": [
    "## Bonus Points"
   ]
  },
  {
   "cell_type": "markdown",
   "metadata": {},
   "source": [
    "### Refraction\n",
    "\n",
    "Look into Snell’s law: http://en.wikipedia.org/wiki/Snell's_law\n",
    "Refractive index table: http://en.wikipedia.org/wiki/List_of_refractive_indices"
   ]
  },
  {
   "cell_type": "markdown",
   "metadata": {},
   "source": [
    "### OBJ Files\n",
    "\n",
    "OBJ Files are [basic mesh files](https://en.wikipedia.org/wiki/Wavefront_.obj_file) that are built from Vertex and Face list, just like the Mesh object you've implemented.\n",
    "They also contain more advanced features such as texture mappings, but we disregard those for this bonus assignment.\n",
    "\n",
    "Try to implement a OBJ File Reader. You may use some sample files from [here](https://people.sc.fsu.edu/~jburkardt/data/obj/obj.html), but make sure you are using only files with order of 3.\n",
    "\n",
    "Some options: [Diamond](https://people.sc.fsu.edu/~jburkardt/data/obj/diamond.obj), [Dodecahedron](https://people.sc.fsu.edu/~jburkardt/data/obj/dodecahedron.obj), [Gourd](https://people.sc.fsu.edu/~jburkardt/data/obj/gourd.obj).\n",
    "\n",
    "Hint: You should only use the lines with "
   ]
  },
  {
   "cell_type": "code",
   "execution_count": null,
   "metadata": {
    "pycharm": {
     "is_executing": true
    }
   },
   "outputs": [],
   "source": []
  }
 ],
 "metadata": {
  "colab": {
   "name": "Exercise 3 - Ray Tracing.ipynb",
   "provenance": []
  },
  "kernelspec": {
   "display_name": "Python 3 (ipykernel)",
   "language": "python",
   "name": "python3"
  },
  "language_info": {
   "codemirror_mode": {
    "name": "ipython",
    "version": 3
   },
   "file_extension": ".py",
   "mimetype": "text/x-python",
   "name": "python",
   "nbconvert_exporter": "python",
   "pygments_lexer": "ipython3",
   "version": "3.7.9"
  }
 },
 "nbformat": 4,
 "nbformat_minor": 1
}